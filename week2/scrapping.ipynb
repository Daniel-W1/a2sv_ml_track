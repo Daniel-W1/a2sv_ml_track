{
 "cells": [
  {
   "cell_type": "code",
   "execution_count": 27,
   "metadata": {},
   "outputs": [],
   "source": [
    "from bs4 import BeautifulSoup\n",
    "import requests\n",
    "\n",
    "HEADERS = {\n",
    "    \"User-Agent\": \"Mozilla/5.0 (Windows NT 10.0; Win64; x64) AppleWebKit/537.36 (KHTML, like Gecko) Chrome/62.0.3202.94 Safari/537.36\",\n",
    "    \"Accept-Encoding\": \"gzip, deflate, br\",\n",
    "    \"Accept\": \"text/html,application/xhtml+xml,application/xml;q=0.9,image/webp,image/apng,*/*;q=0.8\",\n",
    "    \"Connection\": \"keep-alive\",\n",
    "    \"Accept-Language\": \"en-US,en;q=0.9,lt;q=0.8,et;q=0.7,de;q=0.6\",\n",
    "}\n",
    "\n",
    "url = 'https://www.imdb.com/calendar/?ref_=nv_mv_cal'\n",
    "response = requests.get(url, headers=HEADERS)\n",
    "plain_text = response.text\n",
    "soup = BeautifulSoup(plain_text, 'lxml')\n",
    "\n",
    "# print(soup.prettify())"
   ]
  },
  {
   "cell_type": "code",
   "execution_count": 5,
   "metadata": {},
   "outputs": [
    {
     "name": "stdout",
     "output_type": "stream",
     "text": [
      "77\n"
     ]
    }
   ],
   "source": [
    "# get all the movies first and we will filter by date later\n",
    "movies = soup.find_all('article', class_ = 'sc-48add019-1 eovPBi')"
   ]
  },
  {
   "cell_type": "code",
   "execution_count": 25,
   "metadata": {},
   "outputs": [],
   "source": [
    "import pandas as pd\n",
    "\n",
    "start_point = pd.to_datetime('Sep 01, 2023')\n",
    "end_point = pd.to_datetime('Dec 25, 2023')\n",
    "filtered_movies = []\n",
    "\n",
    "# filter the movies by date\n",
    "for movie in movies:\n",
    "    date = movie.find('h3', class_ = 'ipc-title__text').text\n",
    "    date = pd.to_datetime(date)\n",
    "    \n",
    "    # check if this movie is in the date range\n",
    "    if start_point <= date <= end_point:\n",
    "        filtered_movies.append(movie)"
   ]
  },
  {
   "cell_type": "markdown",
   "metadata": {},
   "source": [
    "### How many movies are set to be released in this interval?"
   ]
  },
  {
   "cell_type": "code",
   "execution_count": 50,
   "metadata": {},
   "outputs": [
    {
     "data": {
      "text/plain": [
       "37"
      ]
     },
     "execution_count": 50,
     "metadata": {},
     "output_type": "execute_result"
    }
   ],
   "source": [
    "len(filtered_movies)"
   ]
  },
  {
   "cell_type": "markdown",
   "metadata": {},
   "source": [
    "### What is the most frequent genre amongst the movies that are being released in this interval?"
   ]
  },
  {
   "cell_type": "code",
   "execution_count": 51,
   "metadata": {},
   "outputs": [
    {
     "name": "stdout",
     "output_type": "stream",
     "text": [
      "Drama\n"
     ]
    }
   ],
   "source": [
    "counters = {}\n",
    "for movie in filtered_movies:\n",
    "    # get the genre of the movie\n",
    "    genre_list = movie.find('ul', class_ = 'ipc-inline-list')\n",
    "\n",
    "    # some movies don't have a genre, so we skip them\n",
    "    if genre_list is None:\n",
    "        continue\n",
    "\n",
    "    # some movies have multiple genres, so we need to iterate over them\n",
    "    genres = genre_list.find_all('span', class_ = 'ipc-metadata-list-summary-item__li')\n",
    "    for genre in genres:\n",
    "        counters[genre.text] = counters.get(genre.text, 0) + 1\n",
    "\n",
    "print(max(counters, key=counters.get))"
   ]
  }
 ],
 "metadata": {
  "kernelspec": {
   "display_name": "Python 3",
   "language": "python",
   "name": "python3"
  },
  "language_info": {
   "codemirror_mode": {
    "name": "ipython",
    "version": 3
   },
   "file_extension": ".py",
   "mimetype": "text/x-python",
   "name": "python",
   "nbconvert_exporter": "python",
   "pygments_lexer": "ipython3",
   "version": "3.11.4"
  },
  "orig_nbformat": 4
 },
 "nbformat": 4,
 "nbformat_minor": 2
}
