{
 "cells": [
  {
   "cell_type": "markdown",
   "id": "0568b8db",
   "metadata": {},
   "source": [
    "Before you turn this problem in, make sure everything runs as expected. First, **restart the kernel** (in the menubar, select Kernel$\\rightarrow$Restart) and then **run all cells** (in the menubar, select Cell$\\rightarrow$Run All).\n",
    "\n",
    "Make sure you fill in any place that says `YOUR CODE HERE` or \"YOUR ANSWER HERE\", as well as your name and collaborators below:"
   ]
  },
  {
   "cell_type": "code",
   "execution_count": 6,
   "id": "4e055ab8",
   "metadata": {},
   "outputs": [
    {
     "name": "stderr",
     "output_type": "stream",
     "text": [
      "C:\\Users\\hp\\AppData\\Local\\Temp\\ipykernel_20972\\1375400659.py:4: DtypeWarning: Columns (3,4,5,6,12) have mixed types. Specify dtype option on import or set low_memory=False.\n",
      "  df = pd.read_csv('Salaries.csv')\n"
     ]
    },
    {
     "data": {
      "text/html": [
       "<div>\n",
       "<style scoped>\n",
       "    .dataframe tbody tr th:only-of-type {\n",
       "        vertical-align: middle;\n",
       "    }\n",
       "\n",
       "    .dataframe tbody tr th {\n",
       "        vertical-align: top;\n",
       "    }\n",
       "\n",
       "    .dataframe thead th {\n",
       "        text-align: right;\n",
       "    }\n",
       "</style>\n",
       "<table border=\"1\" class=\"dataframe\">\n",
       "  <thead>\n",
       "    <tr style=\"text-align: right;\">\n",
       "      <th></th>\n",
       "      <th>Id</th>\n",
       "      <th>EmployeeName</th>\n",
       "      <th>JobTitle</th>\n",
       "      <th>BasePay</th>\n",
       "      <th>OvertimePay</th>\n",
       "      <th>OtherPay</th>\n",
       "      <th>Benefits</th>\n",
       "      <th>TotalPay</th>\n",
       "      <th>TotalPayBenefits</th>\n",
       "      <th>Year</th>\n",
       "      <th>Notes</th>\n",
       "      <th>Agency</th>\n",
       "      <th>Status</th>\n",
       "    </tr>\n",
       "  </thead>\n",
       "  <tbody>\n",
       "    <tr>\n",
       "      <th>0</th>\n",
       "      <td>1</td>\n",
       "      <td>NATHANIEL FORD</td>\n",
       "      <td>GENERAL MANAGER-METROPOLITAN TRANSIT AUTHORITY</td>\n",
       "      <td>167411.18</td>\n",
       "      <td>0.0</td>\n",
       "      <td>400184.25</td>\n",
       "      <td>NaN</td>\n",
       "      <td>567595.43</td>\n",
       "      <td>567595.43</td>\n",
       "      <td>2011</td>\n",
       "      <td>NaN</td>\n",
       "      <td>San Francisco</td>\n",
       "      <td>NaN</td>\n",
       "    </tr>\n",
       "    <tr>\n",
       "      <th>1</th>\n",
       "      <td>2</td>\n",
       "      <td>GARY JIMENEZ</td>\n",
       "      <td>CAPTAIN III (POLICE DEPARTMENT)</td>\n",
       "      <td>155966.02</td>\n",
       "      <td>245131.88</td>\n",
       "      <td>137811.38</td>\n",
       "      <td>NaN</td>\n",
       "      <td>538909.28</td>\n",
       "      <td>538909.28</td>\n",
       "      <td>2011</td>\n",
       "      <td>NaN</td>\n",
       "      <td>San Francisco</td>\n",
       "      <td>NaN</td>\n",
       "    </tr>\n",
       "    <tr>\n",
       "      <th>2</th>\n",
       "      <td>3</td>\n",
       "      <td>ALBERT PARDINI</td>\n",
       "      <td>CAPTAIN III (POLICE DEPARTMENT)</td>\n",
       "      <td>212739.13</td>\n",
       "      <td>106088.18</td>\n",
       "      <td>16452.6</td>\n",
       "      <td>NaN</td>\n",
       "      <td>335279.91</td>\n",
       "      <td>335279.91</td>\n",
       "      <td>2011</td>\n",
       "      <td>NaN</td>\n",
       "      <td>San Francisco</td>\n",
       "      <td>NaN</td>\n",
       "    </tr>\n",
       "    <tr>\n",
       "      <th>3</th>\n",
       "      <td>4</td>\n",
       "      <td>CHRISTOPHER CHONG</td>\n",
       "      <td>WIRE ROPE CABLE MAINTENANCE MECHANIC</td>\n",
       "      <td>77916.0</td>\n",
       "      <td>56120.71</td>\n",
       "      <td>198306.9</td>\n",
       "      <td>NaN</td>\n",
       "      <td>332343.61</td>\n",
       "      <td>332343.61</td>\n",
       "      <td>2011</td>\n",
       "      <td>NaN</td>\n",
       "      <td>San Francisco</td>\n",
       "      <td>NaN</td>\n",
       "    </tr>\n",
       "    <tr>\n",
       "      <th>4</th>\n",
       "      <td>5</td>\n",
       "      <td>PATRICK GARDNER</td>\n",
       "      <td>DEPUTY CHIEF OF DEPARTMENT,(FIRE DEPARTMENT)</td>\n",
       "      <td>134401.6</td>\n",
       "      <td>9737.0</td>\n",
       "      <td>182234.59</td>\n",
       "      <td>NaN</td>\n",
       "      <td>326373.19</td>\n",
       "      <td>326373.19</td>\n",
       "      <td>2011</td>\n",
       "      <td>NaN</td>\n",
       "      <td>San Francisco</td>\n",
       "      <td>NaN</td>\n",
       "    </tr>\n",
       "  </tbody>\n",
       "</table>\n",
       "</div>"
      ],
      "text/plain": [
       "   Id       EmployeeName                                        JobTitle  \\\n",
       "0   1     NATHANIEL FORD  GENERAL MANAGER-METROPOLITAN TRANSIT AUTHORITY   \n",
       "1   2       GARY JIMENEZ                 CAPTAIN III (POLICE DEPARTMENT)   \n",
       "2   3     ALBERT PARDINI                 CAPTAIN III (POLICE DEPARTMENT)   \n",
       "3   4  CHRISTOPHER CHONG            WIRE ROPE CABLE MAINTENANCE MECHANIC   \n",
       "4   5    PATRICK GARDNER    DEPUTY CHIEF OF DEPARTMENT,(FIRE DEPARTMENT)   \n",
       "\n",
       "     BasePay OvertimePay   OtherPay Benefits   TotalPay  TotalPayBenefits  \\\n",
       "0  167411.18         0.0  400184.25      NaN  567595.43         567595.43   \n",
       "1  155966.02   245131.88  137811.38      NaN  538909.28         538909.28   \n",
       "2  212739.13   106088.18    16452.6      NaN  335279.91         335279.91   \n",
       "3    77916.0    56120.71   198306.9      NaN  332343.61         332343.61   \n",
       "4   134401.6      9737.0  182234.59      NaN  326373.19         326373.19   \n",
       "\n",
       "   Year  Notes         Agency Status  \n",
       "0  2011    NaN  San Francisco    NaN  \n",
       "1  2011    NaN  San Francisco    NaN  \n",
       "2  2011    NaN  San Francisco    NaN  \n",
       "3  2011    NaN  San Francisco    NaN  \n",
       "4  2011    NaN  San Francisco    NaN  "
      ]
     },
     "execution_count": 6,
     "metadata": {},
     "output_type": "execute_result"
    }
   ],
   "source": [
    "NAME = \"Daniel Wossen\"\n",
    "import pandas as pd\n",
    "import numpy as np\n",
    "df = pd.read_csv('Salaries.csv')\n",
    "df.head()"
   ]
  },
  {
   "cell_type": "markdown",
   "id": "505623d9",
   "metadata": {},
   "source": [
    "---"
   ]
  },
  {
   "cell_type": "markdown",
   "id": "3882f80e",
   "metadata": {
    "deletable": false,
    "editable": false,
    "nbgrader": {
     "cell_type": "markdown",
     "checksum": "8877fdd830b356d735511d0f0f603870",
     "grade": false,
     "grade_id": "cell-232ae0b15c97f90a",
     "locked": true,
     "schema_version": 3,
     "solution": false,
     "task": false
    }
   },
   "source": [
    "# Q3: Pandas"
   ]
  },
  {
   "cell_type": "markdown",
   "id": "c685cd09",
   "metadata": {
    "deletable": false,
    "editable": false,
    "nbgrader": {
     "cell_type": "markdown",
     "checksum": "f75b49bfcd79e98bd4a07a711deae1c7",
     "grade": false,
     "grade_id": "cell-dc30cd03daa012e9",
     "locked": true,
     "schema_version": 3,
     "solution": false,
     "task": false
    }
   },
   "source": [
    "Welcome to a quick exercise for you to practice your pandas skills! We will be using the [SF Salaries Dataset](https://www.kaggle.com/kaggle/sf-salaries) from Kaggle! Just follow along and complete the tasks outlined in bold below. The tasks will get harder and harder as you go along."
   ]
  },
  {
   "cell_type": "markdown",
   "id": "bd44fd85",
   "metadata": {
    "deletable": false,
    "editable": false,
    "nbgrader": {
     "cell_type": "markdown",
     "checksum": "a30e1b1a69f5020be84c46db0d5bbe8e",
     "grade": false,
     "grade_id": "cell-f810fd0a58d89b16",
     "locked": true,
     "schema_version": 3,
     "solution": false,
     "task": false
    }
   },
   "source": [
    "Write a function `average_base_pay(df)` that takes a dataframe and returns the average BasePay.\n"
   ]
  },
  {
   "cell_type": "code",
   "execution_count": 4,
   "id": "466c0b21",
   "metadata": {
    "deletable": false,
    "nbgrader": {
     "cell_type": "code",
     "checksum": "c4807bd44f4d0caf41f407cf28b707ee",
     "grade": false,
     "grade_id": "cell-9956d2606b32c334",
     "locked": false,
     "schema_version": 3,
     "solution": true,
     "task": false
    }
   },
   "outputs": [],
   "source": [
    "\n",
    "def average_base_pay(df):\n",
    "    \"\"\"Compute the average base pay in the dataframe.\n",
    "    \n",
    "    Args:\n",
    "        df: A dataframe with a column 'BasePay' containing numerical values.\n",
    "    \n",
    "    Returns:\n",
    "        The average base pay as a float.\n",
    "    \"\"\"\n",
    "    \n",
    "    base_pay_col = df['BasePay']\n",
    "    base_pay_col = base_pay_col.replace('Not Provided', np.nan)\n",
    "    base_pay_col = base_pay_col.dropna()\n",
    "    base_pay_col = base_pay_col.astype(float)\n",
    "    return base_pay_col.mean()\n",
    "    \n",
    "\n"
   ]
  },
  {
   "cell_type": "code",
   "execution_count": 5,
   "id": "ca96fa97",
   "metadata": {
    "deletable": false,
    "editable": false,
    "nbgrader": {
     "cell_type": "code",
     "checksum": "cd44ebee866c0917fd811ce18853ceb3",
     "grade": true,
     "grade_id": "cell-6de9cf25de12ebfe",
     "locked": true,
     "points": 0,
     "schema_version": 3,
     "solution": false,
     "task": false
    }
   },
   "outputs": [
    {
     "name": "stdout",
     "output_type": "stream",
     "text": [
      "All tests passed\n"
     ]
    }
   ],
   "source": [
    "def test_average_base_pay():\n",
    "    \"\"\"Check that average_base_pay returns the correct output for several inputs\"\"\"\n",
    "    assert average_base_pay(df) == 66325.44884048768\n",
    "    print(\"All tests passed\")\n",
    "\n",
    "test_average_base_pay()\n"
   ]
  },
  {
   "cell_type": "markdown",
   "id": "a63d9af9",
   "metadata": {
    "deletable": false,
    "editable": false,
    "nbgrader": {
     "cell_type": "markdown",
     "checksum": "1a75ec7111412569c5cbe6280265bd54",
     "grade": false,
     "grade_id": "cell-f378bd993ac7d50e",
     "locked": true,
     "schema_version": 3,
     "solution": false,
     "task": false
    }
   },
   "source": [
    "q) Write a function `highest_overtime_pay(df)` that takes a dataframe and returns the highest OvertimePay.\n"
   ]
  },
  {
   "cell_type": "code",
   "execution_count": 39,
   "id": "bb4729f7",
   "metadata": {
    "deletable": false,
    "nbgrader": {
     "cell_type": "code",
     "checksum": "45d091a6f065d442e2a5b5ab3f9e8f7f",
     "grade": false,
     "grade_id": "cell-a21f0da23bd597e0",
     "locked": false,
     "schema_version": 3,
     "solution": true,
     "task": false
    }
   },
   "outputs": [],
   "source": [
    "def highest_overtime_pay(df):\n",
    "    \"\"\"Compute the highest overtime pay in the dataframe.\n",
    "    \n",
    "    Args:\n",
    "        df: A dataframe with a column 'OvertimePay' containing numerical values.\n",
    "    \n",
    "    Returns:\n",
    "        The highest overtime pay as a float.\n",
    "    \"\"\"\n",
    "    over_time_col = df['OvertimePay']\n",
    "    over_time_col = over_time_col.replace('Not Provided', np.nan)\n",
    "    over_time_col = over_time_col.dropna()\n",
    "    over_time_col = over_time_col.astype(float)\n",
    "    return over_time_col.max()\n"
   ]
  },
  {
   "cell_type": "code",
   "execution_count": 41,
   "id": "35c014d1",
   "metadata": {
    "deletable": false,
    "editable": false,
    "nbgrader": {
     "cell_type": "code",
     "checksum": "6841184b6483314c3d1d0b20eea27cd4",
     "grade": true,
     "grade_id": "cell-0b7a1b31855d854b",
     "locked": true,
     "points": 0,
     "schema_version": 3,
     "solution": false,
     "task": false
    }
   },
   "outputs": [
    {
     "name": "stdout",
     "output_type": "stream",
     "text": [
      "245131.88\n"
     ]
    }
   ],
   "source": [
    "def test_highest_overtime_pay():\n",
    "    \"\"\"Check that highest_overtime_pay returns the correct output for several inputs\"\"\"\n",
    "    print(highest_overtime_pay(df))\n",
    "\n",
    "test_highest_overtime_pay()"
   ]
  },
  {
   "cell_type": "markdown",
   "id": "cd005bed",
   "metadata": {
    "deletable": false,
    "editable": false,
    "nbgrader": {
     "cell_type": "markdown",
     "checksum": "aec2f9f936ea9efef40eb6b0eb012501",
     "grade": false,
     "grade_id": "cell-2ecf1928c714afc4",
     "locked": true,
     "schema_version": 3,
     "solution": false,
     "task": false
    }
   },
   "source": [
    "Write a function `job_title_of(df, name)` that takes a dataframe and a name, and returns the job title of the person with the given name. Make sure the name is case insensitive."
   ]
  },
  {
   "cell_type": "code",
   "execution_count": 13,
   "id": "6e12f8c8",
   "metadata": {
    "deletable": false,
    "nbgrader": {
     "cell_type": "code",
     "checksum": "3ef92ec34f9ef97e82fbc5dafa85fcab",
     "grade": false,
     "grade_id": "cell-259ef69f6cbe9d0d",
     "locked": false,
     "schema_version": 3,
     "solution": true,
     "task": false
    }
   },
   "outputs": [],
   "source": [
    "def job_title_of(df, name):\n",
    "    \"\"\"Find the job title of a person with a given name in the dataframe.\n",
    "    \n",
    "    Args:\n",
    "        df: A dataframe with columns 'EmployeeName' and 'JobTitle' containing strings.\n",
    "        name: A string representing a name.\n",
    "    \n",
    "    Returns:\n",
    "        The job title as a string.\n",
    "    \"\"\"\n",
    "    person_row = df[df['EmployeeName'] == name]\n",
    "    # print(person_row['JobTitle'].values)\n",
    "    job_title = person_row['JobTitle'].values[0]\n",
    "    return job_title\n"
   ]
  },
  {
   "cell_type": "code",
   "execution_count": 14,
   "id": "da16f8d7",
   "metadata": {
    "deletable": false,
    "editable": false,
    "nbgrader": {
     "cell_type": "code",
     "checksum": "8d956e0983baf94326ba256de06c12b1",
     "grade": true,
     "grade_id": "cell-dccc5ee19e3b6f65",
     "locked": true,
     "points": 0,
     "schema_version": 3,
     "solution": false,
     "task": false
    }
   },
   "outputs": [
    {
     "name": "stdout",
     "output_type": "stream",
     "text": [
      "['CAPTAIN III (POLICE DEPARTMENT)']\n",
      "CAPTAIN III (POLICE DEPARTMENT)\n"
     ]
    }
   ],
   "source": [
    "def test_job_title_of():\n",
    "    \"\"\"Check that job_title_of returns the correct output for several inputs\"\"\"\n",
    "    print(job_title_of(df, \"GARY JIMENEZ\"))\n",
    "\n",
    "test_job_title_of()"
   ]
  },
  {
   "cell_type": "markdown",
   "id": "6b5d2cc1",
   "metadata": {
    "deletable": false,
    "editable": false,
    "nbgrader": {
     "cell_type": "markdown",
     "checksum": "644d90f923038aba0a10b8b6d22d49d1",
     "grade": false,
     "grade_id": "cell-0b11761f27f2bc55",
     "locked": true,
     "schema_version": 3,
     "solution": false,
     "task": false
    }
   },
   "source": [
    "Write a function `total_pay_benefits_of(df, name)` that takes a dataframe and a name, and returns the total pay benefits of the person with the given name. Make sure the name is case insensitive.\n"
   ]
  },
  {
   "cell_type": "code",
   "execution_count": 15,
   "id": "4d2d095c",
   "metadata": {
    "deletable": false,
    "nbgrader": {
     "cell_type": "code",
     "checksum": "d0c21100e52007230d017bb476d53e51",
     "grade": false,
     "grade_id": "cell-921b58b6ee68ca5c",
     "locked": false,
     "schema_version": 3,
     "solution": true,
     "task": false
    }
   },
   "outputs": [],
   "source": [
    "def total_pay_benefits_of(df, name):\n",
    "    \"\"\"Find the total pay benefits of a person with a given name in the dataframe.\n",
    "    \n",
    "    Args:\n",
    "        df: A dataframe with columns 'EmployeeName' and 'TotalPayBenefits' containing strings and numerical values, respectively.\n",
    "        name: A string representing a name.\n",
    "    \n",
    "    Returns:\n",
    "        The total pay benefits as a float.\n",
    "    \"\"\"\n",
    "    # YOUR CODE HERE\n",
    "    return df[df['EmployeeName'] == name]['TotalPayBenefits'].values[0]"
   ]
  },
  {
   "cell_type": "code",
   "execution_count": null,
   "id": "01a2ed21",
   "metadata": {
    "deletable": false,
    "editable": false,
    "nbgrader": {
     "cell_type": "code",
     "checksum": "9b212f90258abdb5238e73cefe3cddf8",
     "grade": true,
     "grade_id": "cell-e642664ad758145e",
     "locked": true,
     "points": 0,
     "schema_version": 3,
     "solution": false,
     "task": false
    }
   },
   "outputs": [],
   "source": [
    "def test_total_pay_benefits_of():\n",
    "    \"\"\"Check that total_pay_benefits_of returns the correct output for several inputs\"\"\"\n",
    "    \n",
    "    \n"
   ]
  },
  {
   "cell_type": "markdown",
   "id": "7062db0c",
   "metadata": {
    "deletable": false,
    "editable": false,
    "nbgrader": {
     "cell_type": "markdown",
     "checksum": "9849d9210eab72a2328a7d66845f3322",
     "grade": false,
     "grade_id": "cell-658469df699af943",
     "locked": true,
     "schema_version": 3,
     "solution": false,
     "task": false
    }
   },
   "source": [
    "Write a function `highest_paid_person(df)` that takes a dataframe and returns the name of the highest paid person (including benefits).\n"
   ]
  },
  {
   "cell_type": "code",
   "execution_count": null,
   "id": "b2e44397",
   "metadata": {
    "deletable": false,
    "nbgrader": {
     "cell_type": "code",
     "checksum": "90f84e47a2cb63d7d9d1d9ffd8bbac52",
     "grade": false,
     "grade_id": "cell-e09c2726829088ad",
     "locked": false,
     "schema_version": 3,
     "solution": true,
     "task": false
    }
   },
   "outputs": [],
   "source": [
    "def highest_paid_person(df):\n",
    "    \"\"\"Find the name of the highest paid person in the dataframe.\n",
    "    \n",
    "    Args:\n",
    "        df: A dataframe with columns 'EmployeeName' and 'TotalPayBenefits' containing strings and numerical values, respectively.\n",
    "    \n",
    "    Returns:\n",
    "        The name of the highest paid person as a string.\n",
    "    \"\"\"\n",
    "    return df.loc[df['TotalPayBenefits'].idxmax()]['EmployeeName']\n",
    "    \n",
    "    \n"
   ]
  },
  {
   "cell_type": "code",
   "execution_count": null,
   "id": "79ca44fd",
   "metadata": {
    "deletable": false,
    "editable": false,
    "nbgrader": {
     "cell_type": "code",
     "checksum": "4ddb8585eea9950e9678bc482909dc1e",
     "grade": true,
     "grade_id": "cell-76533f6a7b16ae5b",
     "locked": true,
     "points": 0,
     "schema_version": 3,
     "solution": false,
     "task": false
    }
   },
   "outputs": [],
   "source": [
    "def test_highest_paid_person():\n",
    "    \"\"\"Check that highest_paid_person returns the correct output for several inputs\"\"\"\n"
   ]
  },
  {
   "cell_type": "markdown",
   "id": "2f912a72",
   "metadata": {
    "deletable": false,
    "editable": false,
    "nbgrader": {
     "cell_type": "markdown",
     "checksum": "2d6f70686116a6d1430b9ae716d44cb4",
     "grade": false,
     "grade_id": "cell-b871d78821dc3213",
     "locked": true,
     "schema_version": 3,
     "solution": false,
     "task": false
    }
   },
   "source": [
    "Write a function `lowest_paid_person(df)` that takes a dataframe and returns the name of the lowest paid person (including benefits).\n"
   ]
  },
  {
   "cell_type": "code",
   "execution_count": null,
   "id": "d957cec4",
   "metadata": {
    "deletable": false,
    "nbgrader": {
     "cell_type": "code",
     "checksum": "19ba843b7112bf251a370db98ba177ce",
     "grade": false,
     "grade_id": "cell-f3a8d3499aacc89d",
     "locked": false,
     "schema_version": 3,
     "solution": true,
     "task": false
    }
   },
   "outputs": [],
   "source": [
    "def lowest_paid_person(df):\n",
    "    \"\"\"Find the name of the lowest paid person in the dataframe.\n",
    "    \n",
    "    Args:\n",
    "        df: A dataframe with columns 'EmployeeName' and 'TotalPayBenefits' containing strings and numerical values, respectively.\n",
    "    \n",
    "    Returns:\n",
    "        The name of the lowest paid person as a string.\n",
    "    \"\"\"\n",
    "    \n",
    "    # YOUR CODE HERE\n",
    "    return df.loc[df['TotalPayBenefits'].idxmin()]['EmployeeName']\n"
   ]
  },
  {
   "cell_type": "code",
   "execution_count": null,
   "id": "14b2a761",
   "metadata": {
    "deletable": false,
    "editable": false,
    "nbgrader": {
     "cell_type": "code",
     "checksum": "97eb19085c4660406fcb979f6987eab8",
     "grade": true,
     "grade_id": "cell-1b2727db36c9989c",
     "locked": true,
     "points": 0,
     "schema_version": 3,
     "solution": false,
     "task": false
    }
   },
   "outputs": [],
   "source": [
    "def test_lowest_paid_person():\n",
    "    \"\"\"Check that lowest_paid_person returns the correct output for several inputs\"\"\"\n"
   ]
  },
  {
   "cell_type": "markdown",
   "id": "39609372",
   "metadata": {
    "deletable": false,
    "editable": false,
    "nbgrader": {
     "cell_type": "markdown",
     "checksum": "19204d19709fbfebfe5128af42fc00cf",
     "grade": false,
     "grade_id": "cell-54f02488b211f1db",
     "locked": true,
     "schema_version": 3,
     "solution": false,
     "task": false
    }
   },
   "source": [
    "Write a function `average_base_pay_per_year(df, year_start, year_end)` that takes a dataframe and a start and end year, and returns the average (mean) BasePay of all employees per year within the given range (inclusive).\n"
   ]
  },
  {
   "cell_type": "code",
   "execution_count": 22,
   "id": "46e23d0a",
   "metadata": {
    "deletable": false,
    "nbgrader": {
     "cell_type": "code",
     "checksum": "b771ba3ac5e39957b308af7782d1c914",
     "grade": false,
     "grade_id": "cell-acd1163d0716dd09",
     "locked": false,
     "schema_version": 3,
     "solution": true,
     "task": false
    }
   },
   "outputs": [],
   "source": [
    "def average_base_pay_per_year(df, year_start, year_end):\n",
    "    \"\"\"Compute the average base pay per year in the given range.\n",
    "    \n",
    "    Args:\n",
    "        df: A dataframe with columns 'BasePay' and 'Year' containing numerical values.\n",
    "        year_start: An integer representing the start year.\n",
    "        year_end: An integer representing the end year.\n",
    "    \n",
    "    Returns:\n",
    "        A dictionary where the keys are the years and the values are the average base pay for that year.\n",
    "    \"\"\"\n",
    "    # YOUR CODE HERE\n",
    "    # raise NotImplementedError()\n",
    "    df = df[(df['Year'] >= year_start) & (df['Year'] <= year_end)]\n",
    "    df = df.groupby('Year')['BasePay'].mean()\n",
    "    return df.to_dict()\n",
    "\n",
    "\n"
   ]
  },
  {
   "cell_type": "code",
   "execution_count": 23,
   "id": "2849a488",
   "metadata": {
    "deletable": false,
    "editable": false,
    "nbgrader": {
     "cell_type": "code",
     "checksum": "ee1d79e87aad52ef4221a6f69aeb7824",
     "grade": true,
     "grade_id": "cell-5284dcb443a3ecd5",
     "locked": true,
     "points": 0,
     "schema_version": 3,
     "solution": false,
     "task": false
    }
   },
   "outputs": [
    {
     "name": "stdout",
     "output_type": "stream",
     "text": [
      "{2011: 63595.956516774524, 2012: 65436.40685742255}\n"
     ]
    },
    {
     "data": {
      "text/plain": [
       "{2011: 63595.956516774524, 2012: 65436.40685742255}"
      ]
     },
     "execution_count": 23,
     "metadata": {},
     "output_type": "execute_result"
    }
   ],
   "source": [
    "def test_average_base_pay_per_year():\n",
    "    \"\"\"Check that average_base_pay_per_year returns the correct output for several inputs\"\"\"\n",
    "average_base_pay_per_year(df, 2011, 2012)"
   ]
  },
  {
   "cell_type": "markdown",
   "id": "2502bfe7",
   "metadata": {
    "deletable": false,
    "editable": false,
    "nbgrader": {
     "cell_type": "markdown",
     "checksum": "8127ed15c993ab51a9a7088a16f53ac1",
     "grade": false,
     "grade_id": "cell-96e64abb1c1ec54f",
     "locked": true,
     "schema_version": 3,
     "solution": false,
     "task": false
    }
   },
   "source": [
    "Write a function `unique_job_titles(df)` that takes a dataframe and returns the number of unique job titles.\n"
   ]
  },
  {
   "cell_type": "code",
   "execution_count": null,
   "id": "d6e36207",
   "metadata": {
    "deletable": false,
    "nbgrader": {
     "cell_type": "code",
     "checksum": "3d2d83991d080056f75586a5533fe457",
     "grade": false,
     "grade_id": "cell-6b9e50a1d9a2e2d8",
     "locked": false,
     "schema_version": 3,
     "solution": true,
     "task": false
    }
   },
   "outputs": [],
   "source": [
    "def unique_job_titles(df):\n",
    "    \"\"\"Find the number of unique job titles in the dataframe.\n",
    "    \n",
    "    Args:\n",
    "        df: A dataframe with a column 'JobTitle' containing strings.\n",
    "    \n",
    "    Returns:\n",
    "        The number of unique job titles as an integer.\n",
    "    \"\"\"\n",
    "    # # YOUR CODE HERE\n",
    "    # raise NotImplementedError()\n",
    "    return df['JobTitle'].nunique()\n"
   ]
  },
  {
   "cell_type": "code",
   "execution_count": null,
   "id": "aab2d8b6",
   "metadata": {
    "deletable": false,
    "editable": false,
    "nbgrader": {
     "cell_type": "code",
     "checksum": "39ea21ebd3edc58f19b993008d7380dc",
     "grade": true,
     "grade_id": "cell-91fb07925e0f087c",
     "locked": true,
     "points": 0,
     "schema_version": 3,
     "solution": false,
     "task": false
    }
   },
   "outputs": [],
   "source": [
    "def test_unique_job_titles():\n",
    "    \"\"\"Check that unique_job_titles returns the correct output for several inputs\"\"\""
   ]
  },
  {
   "cell_type": "markdown",
   "id": "3ec4760a",
   "metadata": {
    "deletable": false,
    "editable": false,
    "nbgrader": {
     "cell_type": "markdown",
     "checksum": "5decfe50d50869a1a8dd1e1db5bb3354",
     "grade": false,
     "grade_id": "cell-a4f3fbdd698ee7a3",
     "locked": true,
     "schema_version": 3,
     "solution": false,
     "task": false
    }
   },
   "source": [
    "Write a function `top_5_common_jobs(df)` that takes a dataframe and returns the top 5 most common jobs.\n"
   ]
  },
  {
   "cell_type": "code",
   "execution_count": 28,
   "id": "c87e2218",
   "metadata": {
    "deletable": false,
    "nbgrader": {
     "cell_type": "code",
     "checksum": "57ae793f15e9839107c27c85fddd396f",
     "grade": false,
     "grade_id": "cell-26edb4365b3fd49e",
     "locked": false,
     "schema_version": 3,
     "solution": true,
     "task": false
    }
   },
   "outputs": [],
   "source": [
    "def top_5_common_jobs(df):\n",
    "    \"\"\"Find the top 5 most common jobs in the dataframe.\n",
    "    \n",
    "    Args:\n",
    "        df: A dataframe with a column 'JobTitle' containing strings.\n",
    "    \n",
    "    Returns:\n",
    "        A list of strings representing the top 5 most common jobs.\n",
    "    \"\"\"\n",
    "    # YOUR CODE HERE\n",
    "    # raise NotImplementedError()\n",
    "    return df['JobTitle'].value_counts().head(5).index.tolist()\n"
   ]
  },
  {
   "cell_type": "code",
   "execution_count": 29,
   "id": "ccf2f7f9",
   "metadata": {
    "deletable": false,
    "editable": false,
    "nbgrader": {
     "cell_type": "code",
     "checksum": "30bec63eeaa213f728dac209661afc8e",
     "grade": true,
     "grade_id": "cell-016df5e14047b530",
     "locked": true,
     "points": 0,
     "schema_version": 3,
     "solution": false,
     "task": false
    }
   },
   "outputs": [
    {
     "name": "stdout",
     "output_type": "stream",
     "text": [
      "Top 5 common jobs:  ['Transit Operator', 'Special Nurse', 'Registered Nurse', 'Public Svc Aide-Public Works', 'Police Officer 3']\n"
     ]
    }
   ],
   "source": [
    "def test_top_5_common_jobs():\n",
    "    \"\"\"Check that top_5_common_jobs returns the correct output for several inputs\"\"\"\n",
    "print(\"Top 5 common jobs: \", top_5_common_jobs(df))"
   ]
  },
  {
   "cell_type": "markdown",
   "id": "fcb9541d",
   "metadata": {
    "deletable": false,
    "editable": false,
    "nbgrader": {
     "cell_type": "markdown",
     "checksum": "c59b127417c788fe530f6b05e097afb0",
     "grade": false,
     "grade_id": "cell-cc9700ba25c662ac",
     "locked": true,
     "schema_version": 3,
     "solution": false,
     "task": false
    }
   },
   "source": [
    "Write a function `job_titles_with_one_occurence(df, year)` that takes a dataframe and a year, and returns the number of job titles that were represented by only one person in that year.\n"
   ]
  },
  {
   "cell_type": "code",
   "execution_count": 35,
   "id": "ab8fa6f6",
   "metadata": {
    "deletable": false,
    "nbgrader": {
     "cell_type": "code",
     "checksum": "ef498f0b4633f72db63478e0c295278e",
     "grade": false,
     "grade_id": "cell-aac7975288e0a390",
     "locked": false,
     "schema_version": 3,
     "solution": true,
     "task": false
    }
   },
   "outputs": [],
   "source": [
    "def job_titles_with_one_occurence(df, year):\n",
    "    \"\"\"Find the number of job titles that were represented by only one person in a given year.\n",
    "    \n",
    "    Args:\n",
    "        df: A dataframe with columns 'JobTitle' and 'Year' containing strings and numerical values, respectively.\n",
    "        year: An integer representing a year.\n",
    "    \n",
    "    Returns:\n",
    "        The number of job titles represented by only one person as an integer.\n",
    "    \"\"\"\n",
    "    # YOUR CODE HERE\n",
    "    # raise NotImplementedError()\n",
    "    df_year = df[df['Year']==year]\n",
    "    df_year = df_year.groupby('JobTitle').count()\n",
    "    df_year = df_year[df_year['Year']==1]\n",
    "    print(df_year)\n",
    "    return df_year.shape[0]\n"
   ]
  },
  {
   "cell_type": "code",
   "execution_count": 37,
   "id": "ee5abd8e",
   "metadata": {
    "deletable": false,
    "editable": false,
    "nbgrader": {
     "cell_type": "code",
     "checksum": "ed596f0fcbefd4960e495a71393a16e3",
     "grade": true,
     "grade_id": "cell-c96c7770776e7a41",
     "locked": true,
     "points": 0,
     "schema_version": 3,
     "solution": false,
     "task": false
    }
   },
   "outputs": [],
   "source": [
    "def test_job_titles_with_one_occurence():\n",
    "    \"\"\"Check that job_titles_with_one_occurence returns the correct output for several inputs\"\"\"\n",
    "# print(job_titles_with_one_occurence(df, 2011))"
   ]
  },
  {
   "cell_type": "markdown",
   "id": "e5906815",
   "metadata": {
    "deletable": false,
    "editable": false,
    "nbgrader": {
     "cell_type": "markdown",
     "checksum": "caf04310b14affc65676f87582efb9dc",
     "grade": false,
     "grade_id": "cell-14f13bb2f6da2ca7",
     "locked": true,
     "schema_version": 3,
     "solution": false,
     "task": false
    }
   },
   "source": [
    "Write a function `employees_with_chief_in_title(df)` that takes a dataframe and returns the number of people who have the word \"Chief\" in their job title. Make sure to account for different cases and placements of the word \"Chief\".\n"
   ]
  },
  {
   "cell_type": "code",
   "execution_count": null,
   "id": "a0258861",
   "metadata": {
    "deletable": false,
    "nbgrader": {
     "cell_type": "code",
     "checksum": "e5f883caacf240866ad06e7344ae3ec6",
     "grade": false,
     "grade_id": "cell-7308281b10b89d18",
     "locked": false,
     "schema_version": 3,
     "solution": true,
     "task": false
    }
   },
   "outputs": [],
   "source": [
    "def employees_with_chief_in_title(df):\n",
    "    \"\"\"Find the number of people who have the word \"Chief\" in their job title.\n",
    "    \n",
    "    Args:\n",
    "        df: A dataframe with a column 'JobTitle' containing strings.\n",
    "    \n",
    "    Returns:\n",
    "        The number of people who have \"Chief\" in their job title as an integer.\n",
    "    \"\"\"\n",
    "    # YOUR CODE HERE\n",
    "    # raise NotImplementedError()\n",
    "    return df[df['JobTitle'].str.contains('Chief')].shape[0]\n"
   ]
  },
  {
   "cell_type": "code",
   "execution_count": null,
   "id": "2953bcc6",
   "metadata": {
    "deletable": false,
    "editable": false,
    "nbgrader": {
     "cell_type": "code",
     "checksum": "4bf54194874915a71112b0fc582c4299",
     "grade": true,
     "grade_id": "cell-8285b455e8aa75a1",
     "locked": true,
     "points": 0,
     "schema_version": 3,
     "solution": false,
     "task": false
    }
   },
   "outputs": [],
   "source": [
    "def test_employees_with_chief_in_title():\n",
    "    \"\"\"Check that employees_with_chief_in_title returns the correct output for several inputs\"\"\"\n"
   ]
  },
  {
   "cell_type": "markdown",
   "id": "1fb635c3",
   "metadata": {
    "deletable": false,
    "editable": false,
    "nbgrader": {
     "cell_type": "markdown",
     "checksum": "77913d21fa1e19e53e45ec11b3b642ea",
     "grade": false,
     "grade_id": "cell-527158014dc2db03",
     "locked": true,
     "schema_version": 3,
     "solution": false,
     "task": false
    }
   },
   "source": [
    "Write a function `correlation_title_length_salary(df)` that takes a dataframe and returns the correlation between length of the Job Title string and Salary."
   ]
  },
  {
   "cell_type": "code",
   "execution_count": 38,
   "id": "a73df908",
   "metadata": {
    "deletable": false,
    "nbgrader": {
     "cell_type": "code",
     "checksum": "e2471159413f9940b9d45a55d557f177",
     "grade": false,
     "grade_id": "cell-59b173bfaba1f9ab",
     "locked": false,
     "schema_version": 3,
     "solution": true,
     "task": false
    }
   },
   "outputs": [],
   "source": [
    "def correlation_title_length_salary(df):\n",
    "    \"\"\"Compute the correlation between length of the job title and salary.\n",
    "    \n",
    "    Args:\n",
    "        df: A dataframe with columns 'JobTitle' and 'TotalPayBenefits' containing strings and numerical values, respectively.\n",
    "    \n",
    "    Returns:\n",
    "        The correlation as a float.\n",
    "    \"\"\"\n",
    "    # YOUR CODE HERE\n",
    "    # raise NotImplementedError()\n",
    "    df['TitleLength'] = df['JobTitle'].apply(len)\n",
    "    return df['TitleLength'].corr(df['TotalPayBenefits'])\n"
   ]
  },
  {
   "cell_type": "code",
   "execution_count": 39,
   "id": "574fede2",
   "metadata": {
    "deletable": false,
    "editable": false,
    "nbgrader": {
     "cell_type": "code",
     "checksum": "3e0e0f77c88d453e82eb43bf33eb352c",
     "grade": true,
     "grade_id": "cell-0f20891084c2d2ed",
     "locked": true,
     "points": 0,
     "schema_version": 3,
     "solution": false,
     "task": false
    }
   },
   "outputs": [
    {
     "name": "stdout",
     "output_type": "stream",
     "text": [
      "Testing correlation_title_length_salary()... -0.03687844593260675\n"
     ]
    }
   ],
   "source": [
    "def test_correlation_title_length_salary():\n",
    "    \"\"\"Check that correlation_title_length_salary returns the correct output for several inputs\"\"\"\n",
    "\n",
    "# print(\"Testing correlation_title_length_salary()...\", correlation_title_length_salary(df))"
   ]
  }
 ],
 "metadata": {
  "kernelspec": {
   "display_name": "Python 3 (ipykernel)",
   "language": "python",
   "name": "python3"
  },
  "language_info": {
   "codemirror_mode": {
    "name": "ipython",
    "version": 3
   },
   "file_extension": ".py",
   "mimetype": "text/x-python",
   "name": "python",
   "nbconvert_exporter": "python",
   "pygments_lexer": "ipython3",
   "version": "3.11.4"
  },
  "varInspector": {
   "cols": {
    "lenName": 16,
    "lenType": 16,
    "lenVar": 40
   },
   "kernels_config": {
    "python": {
     "delete_cmd_postfix": "",
     "delete_cmd_prefix": "del ",
     "library": "var_list.py",
     "varRefreshCmd": "print(var_dic_list())"
    },
    "r": {
     "delete_cmd_postfix": ") ",
     "delete_cmd_prefix": "rm(",
     "library": "var_list.r",
     "varRefreshCmd": "cat(var_dic_list()) "
    }
   },
   "types_to_exclude": [
    "module",
    "function",
    "builtin_function_or_method",
    "instance",
    "_Feature"
   ],
   "window_display": false
  }
 },
 "nbformat": 4,
 "nbformat_minor": 5
}
