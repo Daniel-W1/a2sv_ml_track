{
 "cells": [
  {
   "cell_type": "markdown",
   "id": "b6b47d9c",
   "metadata": {},
   "source": [
    "Before you turn this problem in, make sure everything runs as expected. First, **restart the kernel** (in the menubar, select Kernel$\\rightarrow$Restart) and then **run all cells** (in the menubar, select Cell$\\rightarrow$Run All).\n",
    "\n",
    "Make sure you fill in any place that says `YOUR CODE HERE` or \"YOUR ANSWER HERE\", as well as your name and collaborators below:"
   ]
  },
  {
   "cell_type": "code",
   "execution_count": null,
   "id": "c1bff0eb",
   "metadata": {},
   "outputs": [],
   "source": [
    "NAME = \"Daniel Wossen\""
   ]
  },
  {
   "cell_type": "markdown",
   "id": "0cbc5342",
   "metadata": {},
   "source": [
    "---"
   ]
  },
  {
   "cell_type": "markdown",
   "id": "3c3b10ac",
   "metadata": {
    "deletable": false,
    "editable": false,
    "nbgrader": {
     "cell_type": "markdown",
     "checksum": "c64b1cf7accaba869587f777c9b72b85",
     "grade": false,
     "grade_id": "cell-e4efec53f14caffa",
     "locked": true,
     "schema_version": 3,
     "solution": false,
     "task": false
    }
   },
   "source": [
    "# Q3"
   ]
  },
  {
   "cell_type": "markdown",
   "id": "4b4ee43f",
   "metadata": {
    "deletable": false,
    "editable": false,
    "nbgrader": {
     "cell_type": "markdown",
     "checksum": "fb2fede0ed4e4cfbc94b4aee6c071401",
     "grade": false,
     "grade_id": "cell-981ea89b73ec6ce0",
     "locked": true,
     "schema_version": 3,
     "solution": false,
     "task": false
    }
   },
   "source": [
    "Let us start by importing `Numpy`."
   ]
  },
  {
   "cell_type": "code",
   "execution_count": 2,
   "id": "70faf4f0",
   "metadata": {
    "deletable": false,
    "nbgrader": {
     "cell_type": "code",
     "checksum": "e638efe040d926f9c72ad8692cbaab58",
     "grade": false,
     "grade_id": "cell-fedd10605d2a5231",
     "locked": false,
     "schema_version": 3,
     "solution": true,
     "task": false
    }
   },
   "outputs": [],
   "source": [
    "def import_numpy():\n",
    "    import numpy as np"
   ]
  },
  {
   "cell_type": "code",
   "execution_count": 3,
   "id": "b226c7e0",
   "metadata": {
    "deletable": false,
    "editable": false,
    "nbgrader": {
     "cell_type": "code",
     "checksum": "72213852c84b0cf28dd9290add3abaa3",
     "grade": true,
     "grade_id": "cell-adc0be59710f41cf",
     "locked": true,
     "points": 0,
     "schema_version": 3,
     "solution": false,
     "task": false
    }
   },
   "outputs": [],
   "source": [
    "import_numpy()"
   ]
  },
  {
   "cell_type": "markdown",
   "id": "431cb7ef",
   "metadata": {
    "deletable": false,
    "editable": false,
    "nbgrader": {
     "cell_type": "markdown",
     "checksum": "6b8f938d13cff8e0e316e09f9521da34",
     "grade": false,
     "grade_id": "cell-98b2a67f6c394dda",
     "locked": true,
     "schema_version": 3,
     "solution": false,
     "task": false
    }
   },
   "source": [
    "Create an array of 10 zeros"
   ]
  },
  {
   "cell_type": "code",
   "execution_count": 8,
   "id": "c84cbdbb",
   "metadata": {
    "deletable": false,
    "nbgrader": {
     "cell_type": "code",
     "checksum": "5a25e7e824aa5e854d9dfd498fd6c917",
     "grade": false,
     "grade_id": "cell-b7741f8a8a2a229e",
     "locked": false,
     "schema_version": 3,
     "solution": true,
     "task": false
    }
   },
   "outputs": [],
   "source": [
    "import numpy as np\n",
    "def create_zeros():\n",
    "    \"\"\"Create an array of 10 zeros.\"\"\"\n",
    "    return np.zeros(10)\n"
   ]
  },
  {
   "cell_type": "code",
   "execution_count": 9,
   "id": "f049b91d",
   "metadata": {
    "deletable": false,
    "editable": false,
    "nbgrader": {
     "cell_type": "code",
     "checksum": "d156652faa9ed6bd76310a0d26872644",
     "grade": true,
     "grade_id": "cell-62bfab173030e735",
     "locked": true,
     "points": 0,
     "schema_version": 3,
     "solution": false,
     "task": false
    }
   },
   "outputs": [
    {
     "data": {
      "text/plain": [
       "array([0., 0., 0., 0., 0., 0., 0., 0., 0., 0.])"
      ]
     },
     "execution_count": 9,
     "metadata": {},
     "output_type": "execute_result"
    }
   ],
   "source": [
    "\"\"\"Check that create_zeros returns the correct output\"\"\"\n",
    "create_zeros()\n"
   ]
  },
  {
   "cell_type": "markdown",
   "id": "4297f15d",
   "metadata": {
    "deletable": false,
    "editable": false,
    "nbgrader": {
     "cell_type": "markdown",
     "checksum": "84466b5fcbaa9f7c25b8daa49602dbcc",
     "grade": false,
     "grade_id": "cell-bac485038688da85",
     "locked": true,
     "schema_version": 3,
     "solution": false,
     "task": false
    }
   },
   "source": [
    "Create an array of 10 ones"
   ]
  },
  {
   "cell_type": "code",
   "execution_count": 10,
   "id": "4b00f2c8",
   "metadata": {
    "deletable": false,
    "nbgrader": {
     "cell_type": "code",
     "checksum": "f64c4af045a3ed6f654a41d6b8210ce9",
     "grade": false,
     "grade_id": "cell-bf19bc7ca70da59d",
     "locked": false,
     "schema_version": 3,
     "solution": true,
     "task": false
    }
   },
   "outputs": [],
   "source": [
    "def create_ones():\n",
    "    \"\"\"Create an array of 10 ones.\"\"\"\n",
    "    return np.ones(10)\n"
   ]
  },
  {
   "cell_type": "code",
   "execution_count": 11,
   "id": "44771eee",
   "metadata": {
    "deletable": false,
    "editable": false,
    "nbgrader": {
     "cell_type": "code",
     "checksum": "c5c0d868b661fe9b526fb18dcf002c29",
     "grade": true,
     "grade_id": "cell-9ade96a012825e38",
     "locked": true,
     "points": 0,
     "schema_version": 3,
     "solution": false,
     "task": false
    }
   },
   "outputs": [
    {
     "data": {
      "text/plain": [
       "array([1., 1., 1., 1., 1., 1., 1., 1., 1., 1.])"
      ]
     },
     "execution_count": 11,
     "metadata": {},
     "output_type": "execute_result"
    }
   ],
   "source": [
    "\"\"\"Check that create_ones returns the correct output\"\"\"\n",
    "create_ones()\n"
   ]
  },
  {
   "cell_type": "markdown",
   "id": "1185b7e4",
   "metadata": {
    "deletable": false,
    "editable": false,
    "nbgrader": {
     "cell_type": "markdown",
     "checksum": "14c6a2b9f662c9e19e042a0f85fdc5a6",
     "grade": false,
     "grade_id": "cell-2dc3981ba3daf721",
     "locked": true,
     "schema_version": 3,
     "solution": false,
     "task": false
    }
   },
   "source": [
    "Create an array of 10 fives"
   ]
  },
  {
   "cell_type": "code",
   "execution_count": 12,
   "id": "7d1c8a82",
   "metadata": {
    "deletable": false,
    "nbgrader": {
     "cell_type": "code",
     "checksum": "ca342e10c5d72cb9c4a9b52621e9c4bc",
     "grade": false,
     "grade_id": "cell-57d4aa9748a0d09e",
     "locked": false,
     "schema_version": 3,
     "solution": true,
     "task": false
    }
   },
   "outputs": [],
   "source": [
    "def create_fives():\n",
    "    \"\"\"Create an array of 10 fives.\"\"\"\n",
    "    return np.ones(10) * 5\n"
   ]
  },
  {
   "cell_type": "code",
   "execution_count": 13,
   "id": "081c6e94",
   "metadata": {
    "deletable": false,
    "editable": false,
    "nbgrader": {
     "cell_type": "code",
     "checksum": "e5364643f0e3e5a422f6fc6abf92de8c",
     "grade": true,
     "grade_id": "cell-c8108c86071c9493",
     "locked": true,
     "points": 0,
     "schema_version": 3,
     "solution": false,
     "task": false
    }
   },
   "outputs": [
    {
     "data": {
      "text/plain": [
       "array([5., 5., 5., 5., 5., 5., 5., 5., 5., 5.])"
      ]
     },
     "execution_count": 13,
     "metadata": {},
     "output_type": "execute_result"
    }
   ],
   "source": [
    "\"\"\"Check that create_fives returns the correct output\"\"\"\n",
    "\n",
    "create_fives()\n"
   ]
  },
  {
   "cell_type": "markdown",
   "id": "debc6b3b",
   "metadata": {
    "deletable": false,
    "editable": false,
    "nbgrader": {
     "cell_type": "markdown",
     "checksum": "0b04246fe1e02deb957195475151f9b2",
     "grade": false,
     "grade_id": "cell-f10a70b9ee26ac2b",
     "locked": true,
     "schema_version": 3,
     "solution": false,
     "task": false
    }
   },
   "source": [
    "Create an array of the integers from 10 to 50"
   ]
  },
  {
   "cell_type": "code",
   "execution_count": 16,
   "id": "2815cddf",
   "metadata": {
    "deletable": false,
    "nbgrader": {
     "cell_type": "code",
     "checksum": "bbefe5adb90d6f3063c2ca083b5ee961",
     "grade": false,
     "grade_id": "cell-8fb4b3d9dbb102bb",
     "locked": false,
     "schema_version": 3,
     "solution": true,
     "task": false
    }
   },
   "outputs": [],
   "source": [
    "def create_array_10_to_50():\n",
    "    \"\"\"Create an array of the integers from 10 to 50.\"\"\"\n",
    "    return np.arange(10, 51)\n"
   ]
  },
  {
   "cell_type": "code",
   "execution_count": 17,
   "id": "d05e1fff",
   "metadata": {
    "deletable": false,
    "editable": false,
    "nbgrader": {
     "cell_type": "code",
     "checksum": "f4aff75572b8b9bb5f72105f02226e9c",
     "grade": true,
     "grade_id": "cell-8dd35fcdd645dee2",
     "locked": true,
     "points": 0,
     "schema_version": 3,
     "solution": false,
     "task": false
    }
   },
   "outputs": [
    {
     "data": {
      "text/plain": [
       "array([10, 11, 12, 13, 14, 15, 16, 17, 18, 19, 20, 21, 22, 23, 24, 25, 26,\n",
       "       27, 28, 29, 30, 31, 32, 33, 34, 35, 36, 37, 38, 39, 40, 41, 42, 43,\n",
       "       44, 45, 46, 47, 48, 49, 50])"
      ]
     },
     "execution_count": 17,
     "metadata": {},
     "output_type": "execute_result"
    }
   ],
   "source": [
    "\"\"\"Check that create_array_10_to_50 returns the correct output\"\"\"\n",
    "create_array_10_to_50()\n"
   ]
  },
  {
   "cell_type": "markdown",
   "id": "734fce0c",
   "metadata": {
    "deletable": false,
    "editable": false,
    "nbgrader": {
     "cell_type": "markdown",
     "checksum": "30c96539380517c08656c76e07f71d5e",
     "grade": false,
     "grade_id": "cell-49ca688c8fa1b8df",
     "locked": true,
     "schema_version": 3,
     "solution": false,
     "task": false
    }
   },
   "source": [
    "Create a 3x3 matrix with values ranging from 0 to 8"
   ]
  },
  {
   "cell_type": "code",
   "execution_count": 20,
   "id": "f356df07",
   "metadata": {
    "deletable": false,
    "nbgrader": {
     "cell_type": "code",
     "checksum": "49159d196b4cf49cf11be3b48afaaa05",
     "grade": false,
     "grade_id": "cell-5abfce96b527ff3c",
     "locked": false,
     "schema_version": 3,
     "solution": true,
     "task": false
    }
   },
   "outputs": [],
   "source": [
    "def create_matrix_0_to_8():\n",
    "    \"\"\"Create a 3x3 matrix with values ranging from 0 to 8.\"\"\"\n",
    "    return np.arange(0, 9).reshape(3, 3)    \n"
   ]
  },
  {
   "cell_type": "code",
   "execution_count": 21,
   "id": "992a84c6",
   "metadata": {
    "deletable": false,
    "editable": false,
    "nbgrader": {
     "cell_type": "code",
     "checksum": "7316d9136b4e836091e828c40348e2a1",
     "grade": true,
     "grade_id": "cell-790fea2f8478faf6",
     "locked": true,
     "points": 0,
     "schema_version": 3,
     "solution": false,
     "task": false
    }
   },
   "outputs": [
    {
     "data": {
      "text/plain": [
       "array([[0, 1, 2],\n",
       "       [3, 4, 5],\n",
       "       [6, 7, 8]])"
      ]
     },
     "execution_count": 21,
     "metadata": {},
     "output_type": "execute_result"
    }
   ],
   "source": [
    "\"\"\"Check that create_matrix_0_to_8 returns the correct output\"\"\"\n",
    "create_matrix_0_to_8()"
   ]
  },
  {
   "cell_type": "markdown",
   "id": "0d16d8f9",
   "metadata": {
    "deletable": false,
    "editable": false,
    "nbgrader": {
     "cell_type": "markdown",
     "checksum": "ce3e04d330d43ed4449e51dd578ec9f1",
     "grade": false,
     "grade_id": "cell-3675beaf0b084cbb",
     "locked": true,
     "schema_version": 3,
     "solution": false,
     "task": false
    }
   },
   "source": [
    "Use NumPy to generate a random number between 0 and 1"
   ]
  },
  {
   "cell_type": "code",
   "execution_count": 24,
   "id": "b5673cfb",
   "metadata": {
    "deletable": false,
    "nbgrader": {
     "cell_type": "code",
     "checksum": "bbdd9bee56fd6cde5252cd4073664433",
     "grade": false,
     "grade_id": "cell-58a9606807d803eb",
     "locked": false,
     "schema_version": 3,
     "solution": true,
     "task": false
    }
   },
   "outputs": [],
   "source": [
    "def create_random_number():\n",
    "    \"\"\"Generate a random number between 0 and 1.\"\"\"\n",
    "    return np.random.random()\n"
   ]
  },
  {
   "cell_type": "code",
   "execution_count": 37,
   "id": "7cd8eb44",
   "metadata": {
    "deletable": false,
    "editable": false,
    "nbgrader": {
     "cell_type": "code",
     "checksum": "0ce107d039f22e3eeb7fb4919e97ed5f",
     "grade": true,
     "grade_id": "cell-1068c7c26d232be6",
     "locked": true,
     "points": 0,
     "schema_version": 3,
     "solution": false,
     "task": false
    }
   },
   "outputs": [
    {
     "data": {
      "text/plain": [
       "0.06941017098693691"
      ]
     },
     "execution_count": 37,
     "metadata": {},
     "output_type": "execute_result"
    }
   ],
   "source": [
    "\"\"\"Check that create_random_number returns the correct output\"\"\"\n",
    "create_random_number()"
   ]
  },
  {
   "cell_type": "markdown",
   "id": "32ac8b44",
   "metadata": {
    "deletable": false,
    "editable": false,
    "nbgrader": {
     "cell_type": "markdown",
     "checksum": "0a0f2e0fafd15b405cdc5f8af979ed80",
     "grade": false,
     "grade_id": "cell-24a799ea3eb4c9d6",
     "locked": true,
     "schema_version": 3,
     "solution": false,
     "task": false
    }
   },
   "source": [
    "Use NumPy to generate an array of 25 random numbers sampled from a standard normal distribution"
   ]
  },
  {
   "cell_type": "code",
   "execution_count": 40,
   "id": "3aa0455a",
   "metadata": {
    "deletable": false,
    "nbgrader": {
     "cell_type": "code",
     "checksum": "a0c0a5a1993d876e9aea9c1bd0c92492",
     "grade": false,
     "grade_id": "cell-a4d30c69510eb32b",
     "locked": false,
     "schema_version": 3,
     "solution": true,
     "task": false
    }
   },
   "outputs": [],
   "source": [
    "def create_random_numbers():\n",
    "    \"\"\"Generate an array of 25 random numbers from a standard normal distribution.\"\"\"\n",
    "    return np.random.rand(25)\n"
   ]
  },
  {
   "cell_type": "code",
   "execution_count": 41,
   "id": "f1265245",
   "metadata": {
    "deletable": false,
    "editable": false,
    "nbgrader": {
     "cell_type": "code",
     "checksum": "ea50ba49b09ad710bda0674d60828582",
     "grade": true,
     "grade_id": "cell-612119d72133105f",
     "locked": true,
     "points": 0,
     "schema_version": 3,
     "solution": false,
     "task": false
    }
   },
   "outputs": [
    {
     "data": {
      "text/plain": [
       "array([0.29136287, 0.89098345, 0.3901109 , 0.6489079 , 0.30215466,\n",
       "       0.85764197, 0.72513772, 0.61372199, 0.066465  , 0.19497894,\n",
       "       0.44324477, 0.55625839, 0.8780399 , 0.09229352, 0.88716732,\n",
       "       0.40153985, 0.19938287, 0.3367786 , 0.87319442, 0.09626434,\n",
       "       0.98674956, 0.13093883, 0.66519958, 0.96983962, 0.10161285])"
      ]
     },
     "execution_count": 41,
     "metadata": {},
     "output_type": "execute_result"
    }
   ],
   "source": [
    "\"\"\"Check that create_random_numbers returns the correct output\"\"\"\n",
    "create_random_numbers()"
   ]
  },
  {
   "cell_type": "markdown",
   "id": "af2052ba",
   "metadata": {
    "deletable": false,
    "editable": false,
    "nbgrader": {
     "cell_type": "markdown",
     "checksum": "0b4cef994ab2a919e6c0c267b74b5562",
     "grade": false,
     "grade_id": "cell-9b822ca4f4f56c93",
     "locked": true,
     "schema_version": 3,
     "solution": false,
     "task": false
    }
   },
   "source": [
    "q) Write a function that accepts a numpy array and a threshold value, and returns a new array that contains only the elements of the input array that are greater than the threshold. \n"
   ]
  },
  {
   "cell_type": "code",
   "execution_count": 50,
   "id": "22ed2b77",
   "metadata": {
    "deletable": false,
    "nbgrader": {
     "cell_type": "code",
     "checksum": "068bde471fb59735bd5b46f481721d9b",
     "grade": false,
     "grade_id": "cell-9d8a613283e6bcee",
     "locked": false,
     "schema_version": 3,
     "solution": true,
     "task": false
    }
   },
   "outputs": [],
   "source": [
    "def select_greater_than(array, threshold):\n",
    "    \"\"\"Return a new array that contains only the elements of the input array that are greater than the threshold.\"\"\"\n",
    "    return np.where(array > threshold)"
   ]
  },
  {
   "cell_type": "code",
   "execution_count": 51,
   "id": "9708b602",
   "metadata": {
    "deletable": false,
    "editable": false,
    "nbgrader": {
     "cell_type": "code",
     "checksum": "5e18137fd17604d502d8327784883b11",
     "grade": true,
     "grade_id": "cell-6bbf6f405a62df10",
     "locked": true,
     "points": 0,
     "schema_version": 3,
     "solution": false,
     "task": false
    }
   },
   "outputs": [
    {
     "data": {
      "text/plain": [
       "(array([3, 4, 5], dtype=int64),)"
      ]
     },
     "execution_count": 51,
     "metadata": {},
     "output_type": "execute_result"
    }
   ],
   "source": [
    "\"\"\"Check that select_greater_than returns the correct output for several inputs\"\"\"\n",
    "select_greater_than(np.array([1, 2, 3, 4, 5, 6]), 3)"
   ]
  },
  {
   "cell_type": "markdown",
   "id": "96bc66d8",
   "metadata": {
    "deletable": false,
    "editable": false,
    "nbgrader": {
     "cell_type": "markdown",
     "checksum": "d87e3e30c2e6e4b1c35f0327d084e918",
     "grade": false,
     "grade_id": "cell-f48c694c4779ec5b",
     "locked": true,
     "schema_version": 3,
     "solution": false,
     "task": false
    }
   },
   "source": [
    "q) Write a function that accepts a numpy array and a scalar value, and returns a new array that is the result of adding the scalar value to each element of the input array (using broadcasting).\n"
   ]
  },
  {
   "cell_type": "code",
   "execution_count": 53,
   "id": "541ebc68",
   "metadata": {
    "deletable": false,
    "nbgrader": {
     "cell_type": "code",
     "checksum": "1a9ae50c0ad3f38e45642b60d9f6e6f2",
     "grade": false,
     "grade_id": "cell-347a2f7a43add750",
     "locked": false,
     "schema_version": 3,
     "solution": true,
     "task": false
    }
   },
   "outputs": [],
   "source": [
    "def add_scalar(array, scalar):\n",
    "    \"\"\"Return a new array that is the result of adding the scalar value to each element of the input array.\"\"\"\n",
    "    return array + scalar\n"
   ]
  },
  {
   "cell_type": "code",
   "execution_count": 56,
   "id": "27af9646",
   "metadata": {
    "deletable": false,
    "editable": false,
    "nbgrader": {
     "cell_type": "code",
     "checksum": "5d9294156fbb9164b61393d0167b29a8",
     "grade": true,
     "grade_id": "cell-48f23494d61a546a",
     "locked": true,
     "points": 0,
     "schema_version": 3,
     "solution": false,
     "task": false
    }
   },
   "outputs": [
    {
     "data": {
      "text/plain": [
       "array([3, 4, 5])"
      ]
     },
     "execution_count": 56,
     "metadata": {},
     "output_type": "execute_result"
    }
   ],
   "source": [
    "\"\"\"Check that add_scalar returns the correct output for several inputs\"\"\"\n",
    "add_scalar(np.array([1,2,3]), 2)"
   ]
  }
 ],
 "metadata": {
  "kernelspec": {
   "display_name": "Python 3 (ipykernel)",
   "language": "python",
   "name": "python3"
  },
  "language_info": {
   "codemirror_mode": {
    "name": "ipython",
    "version": 3
   },
   "file_extension": ".py",
   "mimetype": "text/x-python",
   "name": "python",
   "nbconvert_exporter": "python",
   "pygments_lexer": "ipython3",
   "version": "3.11.4"
  },
  "varInspector": {
   "cols": {
    "lenName": 16,
    "lenType": 16,
    "lenVar": 40
   },
   "kernels_config": {
    "python": {
     "delete_cmd_postfix": "",
     "delete_cmd_prefix": "del ",
     "library": "var_list.py",
     "varRefreshCmd": "print(var_dic_list())"
    },
    "r": {
     "delete_cmd_postfix": ") ",
     "delete_cmd_prefix": "rm(",
     "library": "var_list.r",
     "varRefreshCmd": "cat(var_dic_list()) "
    }
   },
   "types_to_exclude": [
    "module",
    "function",
    "builtin_function_or_method",
    "instance",
    "_Feature"
   ],
   "window_display": false
  }
 },
 "nbformat": 4,
 "nbformat_minor": 5
}
