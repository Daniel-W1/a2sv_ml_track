{
  "cells": [
    {
      "cell_type": "markdown",
      "id": "67d0260a",
      "metadata": {
        "id": "67d0260a"
      },
      "source": [
        "**CP1**:\n",
        "Given the list $[A, B, C]$, use the `itertools` module to generate all possible\n",
        "combinations of 2 elements.\n",
        "\n",
        "**Expected Output**:\n",
        "$$\n",
        " (A, B) \\\\\n",
        " (A, C) \\\\\n",
        " (B, C)\n",
        "$$"
      ]
    },
    {
      "cell_type": "markdown",
      "id": "70d68298",
      "metadata": {
        "id": "70d68298"
      },
      "source": [
        "# Checkpoints"
      ]
    },
    {
      "cell_type": "code",
      "execution_count": null,
      "id": "9dd63d67",
      "metadata": {
        "colab": {
          "base_uri": "https://localhost:8080/"
        },
        "id": "9dd63d67",
        "outputId": "da90838d-062f-4c15-dde9-11e7e24296e3"
      },
      "outputs": [
        {
          "name": "stdout",
          "output_type": "stream",
          "text": [
            "('A', 'B')\n",
            "('A', 'C')\n",
            "('B', 'C')\n"
          ]
        }
      ],
      "source": [
        "from itertools import combinations\n",
        "def generate_two_combs(alist):\n",
        "  return combinations(alist, 2)\n",
        "\n",
        "res = generate_two_combs([\"A\", \"B\", \"C\"])\n",
        "for val in list(res):\n",
        "  print(val)"
      ]
    },
    {
      "cell_type": "markdown",
      "id": "31c15dce",
      "metadata": {
        "id": "31c15dce"
      },
      "source": [
        "**CP2**:\n",
        "Use the `itertools` module to create a sequence that cycles through\n",
        "['Python', 'is', 'fun'] infinitely. Print the first 10 elements of the sequence.\n",
        "\n",
        "**Expected Output**:\n",
        "$$\n",
        "Python \\\\\n",
        "is\\\\\n",
        "fun\\\\\n",
        "Python\\\\\n",
        "is\\\\\n",
        "fun\\\\\n",
        "Python\\\\\n",
        "is\\\\\n",
        "fun\\\\\n",
        "Python\n",
        "$$"
      ]
    },
    {
      "cell_type": "code",
      "execution_count": null,
      "id": "c75f246c",
      "metadata": {
        "colab": {
          "base_uri": "https://localhost:8080/"
        },
        "id": "c75f246c",
        "outputId": "2431dd8f-5788-43b7-cef8-12287370f6d3"
      },
      "outputs": [
        {
          "name": "stdout",
          "output_type": "stream",
          "text": [
            "Python\n",
            "is\n",
            "fun\n",
            "Python\n",
            "is\n",
            "fun\n",
            "Python\n",
            "is\n",
            "fun\n",
            "Python\n"
          ]
        }
      ],
      "source": [
        "from itertools import cycle\n",
        "def cycle_print(alist, stop_point = 10):\n",
        "  cnt = 0\n",
        "  for val in cycle(alist):\n",
        "    print(val)\n",
        "    cnt += 1\n",
        "\n",
        "    if cnt == 10:\n",
        "      return\n",
        "\n",
        "cycle_print([\"Python\", \"is\", \"fun\"])\n"
      ]
    },
    {
      "cell_type": "markdown",
      "id": "cbef0f63",
      "metadata": {
        "id": "cbef0f63"
      },
      "source": [
        "**CP3**:\n",
        "\n",
        "*   List item\n",
        "\n",
        "*   List item\n",
        "*   List item\n",
        "\n",
        "\n",
        "*   List item\n",
        "\n",
        "\n",
        "Use the `glob` module to list all python (.py) files in your current working directory.\n",
        "\n",
        "\n"
      ]
    },
    {
      "cell_type": "code",
      "execution_count": null,
      "id": "3e62d5b4",
      "metadata": {
        "colab": {
          "base_uri": "https://localhost:8080/"
        },
        "id": "3e62d5b4",
        "outputId": "3d721ea5-cafb-4bd7-cee8-37dd783a69cf"
      },
      "outputs": [
        {
          "name": "stdout",
          "output_type": "stream",
          "text": [
            "[] files\n"
          ]
        }
      ],
      "source": [
        "import glob\n",
        "\n",
        "python_files = glob.glob('*.py')\n",
        "# print(python_files, 'files')\n",
        "for fle in python_files:\n",
        "  print(fle)\n"
      ]
    },
    {
      "cell_type": "markdown",
      "id": "d266d698",
      "metadata": {
        "id": "d266d698"
      },
      "source": [
        "**CP4**: You are given the following HTML content below. Write a function that uses BeautifulSoup to parse the HTML and extract the text inside the   '$<p>$'   tag.\n"
      ]
    },
    {
      "cell_type": "code",
      "execution_count": null,
      "id": "27f941c8",
      "metadata": {
        "id": "27f941c8"
      },
      "outputs": [],
      "source": [
        "#<html><body><div class='main'><h1>Welcome to AI</h1><p>AI is transforming the world</p></div></body></html>"
      ]
    },
    {
      "cell_type": "code",
      "execution_count": null,
      "id": "6fb1cdcf",
      "metadata": {
        "colab": {
          "base_uri": "https://localhost:8080/"
        },
        "id": "6fb1cdcf",
        "outputId": "b07f1591-e5ab-45d4-a61d-17a0cdc63c1f"
      },
      "outputs": [
        {
          "name": "stdout",
          "output_type": "stream",
          "text": [
            "AI is transforming the world\n"
          ]
        }
      ],
      "source": [
        "from bs4 import BeautifulSoup\n",
        "\n",
        "soup = BeautifulSoup(\"<html><body><div class='main'><h1>Welcome to AI</h1><p>AI is transforming the world</p></div></body></html>\", 'html.parser')\n",
        "p_tag = soup.find('p')\n",
        "\n",
        "print(p_tag.text)\n",
        "\n",
        "\n"
      ]
    },
    {
      "cell_type": "markdown",
      "id": "a1fce3ef",
      "metadata": {
        "id": "a1fce3ef"
      },
      "source": [
        "**CP5**: Write a function that uses the re module to replace all occurrences of the word \"AI\" with \"Artificial Intelligence\" in a given text."
      ]
    },
    {
      "cell_type": "code",
      "execution_count": null,
      "id": "07178a2d",
      "metadata": {
        "colab": {
          "base_uri": "https://localhost:8080/"
        },
        "id": "07178a2d",
        "outputId": "8bb7008d-19de-4367-8723-b3c3ea0d61f8"
      },
      "outputs": [
        {
          "name": "stdout",
          "output_type": "stream",
          "text": [
            "<html><body><div class='main'><h1>Welcome to Artificial Intelligence</h1><p>Artificial Intelligence is transforming the world</p></div></body></html>\n"
          ]
        }
      ],
      "source": [
        "import re\n",
        "html_text = \"<html><body><div class='main'><h1>Welcome to AI</h1><p>AI is transforming the world</p></div></body></html>\"\n",
        "new_html_text = re.sub(r'\\bAI\\b', \"Artificial Intelligence\", html_text)\n",
        "print(new_html_text)"
      ]
    },
    {
      "cell_type": "markdown",
      "id": "4e471de6",
      "metadata": {
        "id": "4e471de6"
      },
      "source": [
        "**CP6**: Create a numpy array of 10 zeros."
      ]
    },
    {
      "cell_type": "code",
      "execution_count": null,
      "id": "7f6e9acb",
      "metadata": {
        "colab": {
          "base_uri": "https://localhost:8080/"
        },
        "id": "7f6e9acb",
        "outputId": "8e81dbfd-f869-44fd-a481-41cf868745c5"
      },
      "outputs": [
        {
          "name": "stdout",
          "output_type": "stream",
          "text": [
            "[0. 0. 0. 0. 0. 0. 0. 0. 0. 0.]\n"
          ]
        }
      ],
      "source": [
        "import numpy as np\n",
        "\n",
        "nums = np.zeros(10)\n",
        "print(nums)"
      ]
    },
    {
      "cell_type": "markdown",
      "id": "5f52a63e",
      "metadata": {
        "id": "5f52a63e"
      },
      "source": [
        "**CP7** Create a numpy array of the integers from 10 to 49."
      ]
    },
    {
      "cell_type": "code",
      "execution_count": null,
      "id": "ddb01e9a",
      "metadata": {
        "colab": {
          "base_uri": "https://localhost:8080/"
        },
        "id": "ddb01e9a",
        "outputId": "bf60d419-232a-49f1-9582-e93e2e7de80b"
      },
      "outputs": [
        {
          "name": "stdout",
          "output_type": "stream",
          "text": [
            "[20 38 21 28 44 37 28 15 18 10]\n"
          ]
        }
      ],
      "source": [
        "import numpy as np\n",
        "\n",
        "nums = np.random.randint(10, 50, 10)\n",
        "print(nums)"
      ]
    },
    {
      "cell_type": "markdown",
      "id": "79e4d614",
      "metadata": {
        "id": "79e4d614"
      },
      "source": [
        "**CP8**: Create a 3x3 numpy matrix, filled with values ranging from 0 to 8."
      ]
    },
    {
      "cell_type": "code",
      "execution_count": null,
      "id": "d3eddea4",
      "metadata": {
        "colab": {
          "base_uri": "https://localhost:8080/"
        },
        "id": "d3eddea4",
        "outputId": "eeeb786f-0af2-4f8c-ce68-25e166b0b9c1"
      },
      "outputs": [
        {
          "name": "stdout",
          "output_type": "stream",
          "text": [
            "[[4 2 5]\n",
            " [2 8 3]\n",
            " [2 0 1]]\n"
          ]
        }
      ],
      "source": [
        "import numpy as np\n",
        "\n",
        "nums_grid = np.random.randint(0, 9, (3, 3))\n",
        "print(nums_grid)"
      ]
    },
    {
      "cell_type": "markdown",
      "id": "1b09270f",
      "metadata": {
        "id": "1b09270f"
      },
      "source": [
        "**CP9**: Explain why machine learning models require large amounts of data? What does it mean for an amount of data to be **large**?"
      ]
    },
    {
      "cell_type": "code",
      "execution_count": null,
      "id": "a57e9726",
      "metadata": {
        "colab": {
          "base_uri": "https://localhost:8080/",
          "height": 70
        },
        "id": "a57e9726",
        "outputId": "9649be61-195a-4eeb-df84-706393620c51"
      },
      "outputs": [
        {
          "data": {
            "application/vnd.google.colaboratory.intrinsic+json": {
              "type": "string"
            },
            "text/plain": [
              "'\\n  I believe having a large amount of data helps in two major ways - to build an accurate model and to avoid the problem of overfitting.\\n  By accurate i mean the more we train the model on different data, the model will see different patterns and learn to recognise variations  \\n'"
            ]
          },
          "execution_count": 19,
          "metadata": {},
          "output_type": "execute_result"
        }
      ],
      "source": [
        "\"\"\"\n",
        "  I believe having a large amount of data helps in two major ways - to build an accurate model and to avoid the problem of overfitting.\n",
        "  By accurate i mean the more we train the model on different data, the model will see different patterns and learn to recognise variations\n",
        "  that might happen in the real world. It also helps to avoid overfitting because more data creates generalisation for unseen data.\n",
        "\n",
        "  The concept of \"large\" data is relative and depends on the context. It is often assessed based on factors like the number \n",
        "  of samples, the dimensionality of the data, and the diversity and representativeness of the data with respect to the problem at\n",
        "  hand. Ultimately, the goal is to have a dataset that is large enough to capture the underlying patterns and variations required \n",
        "  for effective model training and generalization.\n",
        "\"\"\""
      ]
    },
    {
      "cell_type": "markdown",
      "id": "1a357bde",
      "metadata": {
        "id": "1a357bde"
      },
      "source": [
        "**CP10**: Explain 2 ways AI can be used in an adverserial way, and what can be done to prevent it."
      ]
    },
    {
      "cell_type": "code",
      "execution_count": null,
      "id": "a9db70af",
      "metadata": {
        "id": "a9db70af"
      },
      "outputs": [],
      "source": [
        "\"\"\"\n",
        "  1, Cyber attacks : ai can be used to plan an effective and powerful cyber attacks. Because LLMs are trained\n",
        "  on the whole internet, they are kind of all knowing. if they are not fine tuned well an attacker might use them\n",
        "  to create a powerful and efficient attacks on different systems.\n",
        "\n",
        "  solution: fine tuning the model, to not respond to such kind of prompts.\n",
        "\n",
        "  2, Generation of fake news: AI specially LLMs like chatgpt can be used to create realistic fake news.\n",
        "  which can be very dangerous anywhere, i can create chaos and disorder in a country.\n",
        "\n",
        "  solution: Fact-checking and verification: Developing AI-based tools and techniques to detect\n",
        "  and debunk fake news, misinformation, and manipulated content.\n",
        "\n",
        "\"\"\""
      ]
    }
  ],
  "metadata": {
    "colab": {
      "history_visible": true,
      "provenance": []
    },
    "kernelspec": {
      "display_name": "Python 3 (ipykernel)",
      "language": "python",
      "name": "python3"
    },
    "language_info": {
      "codemirror_mode": {
        "name": "ipython",
        "version": 3
      },
      "file_extension": ".py",
      "mimetype": "text/x-python",
      "name": "python",
      "nbconvert_exporter": "python",
      "pygments_lexer": "ipython3",
      "version": "3.8.2"
    },
    "varInspector": {
      "cols": {
        "lenName": 16,
        "lenType": 16,
        "lenVar": 40
      },
      "kernels_config": {
        "python": {
          "delete_cmd_postfix": "",
          "delete_cmd_prefix": "del ",
          "library": "var_list.py",
          "varRefreshCmd": "print(var_dic_list())"
        },
        "r": {
          "delete_cmd_postfix": ") ",
          "delete_cmd_prefix": "rm(",
          "library": "var_list.r",
          "varRefreshCmd": "cat(var_dic_list()) "
        }
      },
      "types_to_exclude": [
        "module",
        "function",
        "builtin_function_or_method",
        "instance",
        "_Feature"
      ],
      "window_display": false
    }
  },
  "nbformat": 4,
  "nbformat_minor": 5
}
